{
 "cells": [
  {
   "cell_type": "code",
   "execution_count": null,
   "metadata": {
    "collapsed": true
   },
   "outputs": [],
   "source": [
    "#imports\n",
    "import numpy as np\n",
    "import pandas as pd\n",
    "import scipy as sc\n",
    "from sklearn.metrics import mean_squared_error\n",
    "from sklearn.model_selection import train_test_split\n",
    "from sklearn.metrics import r2_score\n",
    "import matplotlib.pyplot as plt\n",
    "\n",
    "def selectPeriods(df, delta_t):\n",
    "    pointer = 5\n",
    "    endSpots = []\n",
    "    setPoints = []\n",
    "    while pointer < len(df) - 3:\n",
    "        if (int(df.loc[pointer, 'Target ppm']) - int(df.loc[pointer - 1, 'Target ppm'])) != 0:\n",
    "            endSpots.append(pointer - 1)\n",
    "            pointer += 1\n",
    "        else:\n",
    "            pointer += 1\n",
    "    endSpots.append(len(df) - 3)\n",
    "    for item in endSpots:\n",
    "        setPoints.append([item - delta_t, item])\n",
    "    return setPoints\n"
   ]
  },
  {
   "cell_type": "code",
   "execution_count": null,
   "outputs": [],
   "source": [
    "# Define the function to extract data\n",
    "def extract_data(filename):\n",
    "    pdadata = pd.read_csv(filename)\n",
    "    indexes = selectPeriods(pdadata, 120)\n",
    "    data=pd.DataFrame()\n",
    "    for i in range(0, len(indexes)):\n",
    "        data2 = pdadata.loc[indexes[i][0]:indexes[i][1],:]\n",
    "        data=pd.concat([data,data2], ignore_index=True)\n",
    "    Vout = data.iloc[:, 4].astype(float)\n",
    "    Vref = data.iloc[:, 20].astype(float)\n",
    "    extracted_data = (Vref * (5 - Vout)) / (Vout * (5 - Vref))\n",
    "    return data, extracted_data\n",
    "\n",
    "# Read and extract data from the first CSV file\n",
    "file1 = '/Users/benfunk/DataspellProjects/MethaneDataScience/Johnathan Work/JohnathanDataStorage/0C%5Best.csv'\n",
    "print(\"file1\")\n",
    "df1,data1 = extract_data(file1)\n",
    "\n",
    "# Read and extract data from the second CSV file\n",
    "file2 = '/Users/benfunk/DataspellProjects/MethaneDataScience/Johnathan Work/JohnathanDataStorage/0C%5Re.csv'\n",
    "print(\"file2\")\n",
    "df2,data2 = extract_data(file2)\n",
    "data2=data2*1.0"
   ],
   "metadata": {
    "collapsed": false
   }
  },
  {
   "cell_type": "code",
   "execution_count": null,
   "outputs": [],
   "source": [
    "# Making the resistance ratio easier to access and manage\n",
    "for s in range(0, 16):\n",
    "    tempResistance = (df1['Vref' + str(s)] * (5 - df1['Vout' + str(s)])) / (\n",
    "            (df1['Vout' + str(s)]) * (5 - df1['Vref' + str(s)]))\n",
    "    tempFrame = pd.DataFrame(tempResistance, columns=['Resistance' + str(s)])\n",
    "    df1 = pd.concat([df1, tempFrame], axis=1)\n",
    "\n",
    "for s in range(0, 16):\n",
    "    tempResistance = (df2['Vref' + str(s)] * (5 - df2['Vout' + str(s)])) / (\n",
    "            (df2['Vout' + str(s)]) * (5 - df2['Vref' + str(s)]))\n",
    "    tempFrame = pd.DataFrame(tempResistance, columns=['Resistance' + str(s)])\n",
    "    df2 = pd.concat([df2, tempFrame], axis=1)"
   ],
   "metadata": {
    "collapsed": false
   }
  },
  {
   "cell_type": "code",
   "execution_count": null,
   "outputs": [],
   "source": [
    "# Plot the datasets against each other\n",
    "\n",
    "plt.plot(data1, label='Dataset 1')\n",
    "plt.plot(data2, label='Dataset 2')\n",
    "\n",
    "# Include horizontal gridlines\n",
    "plt.grid(True, linestyle='--')\n",
    "\n",
    "# Add labels and legend\n",
    "plt.xlabel('Index')\n",
    "plt.ylabel('Data')\n",
    "plt.legend()\n",
    "\n",
    "# Display the plot\n",
    "plt.show()"
   ],
   "metadata": {
    "collapsed": false
   }
  },
  {
   "cell_type": "code",
   "execution_count": null,
   "outputs": [],
   "source": [
    "target_ppm = df1['Target ppm']\n",
    "extracted_data1 = data1.groupby(target_ppm).mean()\n",
    "target_ppm2 = df2['Target ppm']\n",
    "extracted_data2 = data2.groupby(target_ppm2).mean()\n",
    "data_diff=extracted_data1/extracted_data2\n",
    "\n",
    "print(extracted_data1/extracted_data2)"
   ],
   "metadata": {
    "collapsed": false
   }
  },
  {
   "cell_type": "code",
   "execution_count": null,
   "outputs": [],
   "source": [
    "import pandas as pd\n",
    "import numpy as np\n",
    "from scipy.optimize import curve_fit\n",
    "import matplotlib.pyplot as plt\n",
    "\n",
    "# Given data\n",
    "data = {'Target': [0, 2, 5, 10, 20, 50],\n",
    "        'Voltage': [1.451559, 1.379599, 1.338084, 1.283503, 1.228191, 1.114560]}\n",
    "df = pd.DataFrame(data)\n",
    "\n",
    "# Define the function to be fit to the data\n",
    "def exp_func(X, a, b, c):\n",
    "    x = X\n",
    "    return (a * np.exp(-b * x) + c)\n",
    "\n",
    "# Use curve_fit to fit the defined function to the data\n",
    "params, params_covariance = curve_fit(exp_func, df['Target'], df['Voltage'])\n",
    "\n",
    "# Print the parameters of the fitting function\n",
    "print('Fitted function parameters: a=%.3f, b=%.3f, c=%.3f' % (params[0], params[1], params[2]))\n",
    "\n",
    "# Use the fitted parameters to generate y data from the function\n",
    "y_fit = exp_func(df['Target'], params[0], params[1], params[2])\n",
    "\n",
    "# Plot the original data as points\n",
    "plt.scatter(df['Target'], df['Voltage'], label='Data')\n",
    "\n",
    "# Plot the fitted function as a line\n",
    "plt.plot(df['Target'], y_fit, label='Fitted function')\n",
    "\n",
    "# Add labels and legend\n",
    "plt.xlabel('Target')\n",
    "plt.ylabel('Voltage Ratio')\n",
    "plt.legend()\n",
    "\n",
    "# Display the plot\n",
    "plt.show()\n"
   ],
   "metadata": {
    "collapsed": false
   }
  },
  {
   "cell_type": "code",
   "execution_count": null,
   "outputs": [],
   "source": [
    "# Plotting the Data after normalization\n",
    "normalization2 = exp_func(target_ppm2,*params)\n",
    "data2=data2*normalization2\n",
    "plt.scatter(data1, df1['Target ppm'], label='Dataset 1')\n",
    "plt.scatter(data2,df2['Target ppm'], label='Dataset 2')\n",
    "\n",
    "# Include horizontal gridlines\n",
    "plt.grid(True, linestyle='--')\n",
    "\n",
    "# Add labels and legend\n",
    "plt.xlabel('Target PPM')\n",
    "plt.ylabel('Resistance Ratio')\n",
    "plt.legend()\n",
    "\n",
    "# Display the plot\n",
    "plt.show()"
   ],
   "metadata": {
    "collapsed": false
   }
  },
  {
   "cell_type": "code",
   "execution_count": null,
   "outputs": [],
   "source": [
    "\n",
    "for s in [0,3,5,7,8,10,13,15]:\n",
    "    # Data preparation\n",
    "    plt.scatter(df2['Target ppm'], df2['Resistance' + str(s)], label='After Humidity', alpha=0.3)\n",
    "    plt.scatter(df1['Target ppm'], df1['Resistance' + str(s)], label='Before Humidity', alpha=0.3)\n",
    "\n",
    "\n",
    "    plt.grid(True, linestyle='--')\n",
    "    plt.xlabel('Target PPM for sensor'+ str(s))\n",
    "    plt.ylabel('Resistance Ratio')\n",
    "    plt.title('Before Normalization')\n",
    "    plt.legend()\n",
    "    plt.show()\n",
    "\n",
    "    # After normalization\n",
    "    normalization2 = exp_func(target_ppm2,*params)\n",
    "    data2=df2['Resistance' + str(s)]*normalization2\n",
    "\n",
    "    plt.scatter(df2['Target ppm'], data2, label='After Humidity', alpha=0.5)\n",
    "    plt.scatter(df1['Target ppm'], df1['Resistance' + str(s)], label='Before Humidity', alpha=0.5)\n",
    "\n",
    "\n",
    "    plt.grid(True, linestyle='--')\n",
    "    plt.xlabel('Target PPM for sensor'+ str(s))\n",
    "    plt.ylabel('Resistance Ratio')\n",
    "    plt.title('After Normalization')\n",
    "    plt.legend()\n",
    "    plt.show()\n"
   ],
   "metadata": {
    "collapsed": false
   }
  },
  {
   "cell_type": "code",
   "execution_count": null,
   "outputs": [],
   "source": [
    "# Perfect normalization\n",
    "data_diff_dict = {} # Create an empty dictionary to store data_diff values\n",
    "for s in [0,3,5,7,8,10,13,15]:\n",
    "    plt.scatter(df2['Target ppm'], df2['Resistance' + str(s)], label='After Humidity', alpha=0.3)\n",
    "    plt.scatter(df1['Target ppm'], df1['Resistance' + str(s)], label='Before Humidity', alpha=0.3)\n",
    "\n",
    "    # Include horizontal gridlines\n",
    "    plt.grid(True, linestyle='--')\n",
    "\n",
    "    # Add labels and legend\n",
    "    plt.xlabel('Target PPM for sensor' + str(s))\n",
    "    plt.ylabel('Resistance Ratio')\n",
    "    plt.title('Before Normalization')\n",
    "    plt.legend()\n",
    "    plt.show()\n",
    "\n",
    "    normalization2 = exp_func(target_ppm2,*params)\n",
    "    data2=df2['Resistance' + str(s)]*normalization2\n",
    "\n",
    "    target_ppm = df1['Target ppm']\n",
    "    extracted_data1 = df1['Resistance' + str(s)].groupby(target_ppm).mean()\n",
    "    target_ppm2 = df2['Target ppm']\n",
    "    extracted_data2 = data2.groupby(target_ppm2).mean()\n",
    "    data_diff=(extracted_data1/extracted_data2).mean()\n",
    "\n",
    "    # Store the data_diff for each sensor in the dictionary\n",
    "    data_diff_dict[s] = data_diff\n",
    "\n",
    "    meanDiff=extracted_data1-(data2*data_diff)\n",
    "    print(\"The difference in mean is now: \" + str(meanDiff[0]))\n",
    "\n",
    "    plt.scatter(df2['Target ppm'], data2*data_diff, label='After Humidity', alpha=0.3)\n",
    "    plt.scatter(df1['Target ppm'], df1['Resistance' + str(s)], label='Before Humidity', alpha=0.3)\n",
    "\n",
    "    # Include horizontal gridlines\n",
    "    plt.grid(True, linestyle='--')\n",
    "\n",
    "    # Add labels and legend\n",
    "    plt.xlabel('Target PPM for sensor' + str(s))\n",
    "    plt.ylabel('Resistance Ratio')\n",
    "    plt.title('After Normalization and 0ppm Ajustment')\n",
    "    plt.legend()\n",
    "\n",
    "    # Display the plot\n",
    "    plt.show()\n",
    "\n",
    "# Print all data_diff values at once\n",
    "for sensor, diff in data_diff_dict.items():\n",
    "    print(f\"Sensor {sensor} : {diff}\")\n"
   ],
   "metadata": {
    "collapsed": false
   }
  },
  {
   "cell_type": "code",
   "execution_count": null,
   "outputs": [],
   "source": [],
   "metadata": {
    "collapsed": false
   }
  }
 ],
 "metadata": {
  "kernelspec": {
   "display_name": "Python 3",
   "language": "python",
   "name": "python3"
  },
  "language_info": {
   "codemirror_mode": {
    "name": "ipython",
    "version": 2
   },
   "file_extension": ".py",
   "mimetype": "text/x-python",
   "name": "python",
   "nbconvert_exporter": "python",
   "pygments_lexer": "ipython2",
   "version": "2.7.6"
  }
 },
 "nbformat": 4,
 "nbformat_minor": 0
}
