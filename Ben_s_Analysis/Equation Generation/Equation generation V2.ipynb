{
 "cells": [
  {
   "cell_type": "code",
   "execution_count": 14,
   "metadata": {
    "collapsed": true,
    "ExecuteTime": {
     "end_time": "2023-11-08T17:48:23.291545Z",
     "start_time": "2023-11-08T17:48:22.801165Z"
    }
   },
   "outputs": [
    {
     "name": "stderr",
     "output_type": "stream",
     "text": [
      "\n",
      "  0%|          | 0/1000 [00:00<?, ?it/s]\u001B[A\n",
      " 26%|██▋       | 264/1000 [00:00<00:00, 2441.80it/s]\u001B[A\n",
      "100%|██████████| 1000/1000 [00:00<00:00, 3237.49it/s][A\n"
     ]
    },
    {
     "name": "stdout",
     "output_type": "stream",
     "text": [
      "Average RMSE over 1000 iterations: 12.183036927966038\n"
     ]
    }
   ],
   "source": [
    "from joblib import Parallel, delayed\n",
    "import multiprocessing\n",
    "import os\n",
    "from multiprocessing import Pool\n",
    "from scipy.optimize import OptimizeWarning\n",
    "import warnings\n",
    "# Relevant libraries\n",
    "import pandas as pd\n",
    "import scipy.optimize as sc\n",
    "from sklearn.metrics import mean_squared_error\n",
    "from sklearn.model_selection import train_test_split\n",
    "import numpy as np\n",
    "from tqdm import tqdm\n",
    "import logging\n",
    "\n",
    "# Function to handle numpy errors and log them\n",
    "def handle_numpy_errors(err, flag):\n",
    "    logging.error(f\"Numpy error: {err}, Flag: {flag}\")\n",
    "\n",
    "# Configure numpy to use the error handler\n",
    "np.seterrcall(handle_numpy_errors)\n",
    "np.seterr(all='call')\n",
    "\n",
    "# Set up logging to file\n",
    "logging.basicConfig(filename='error_log.log', level=logging.ERROR,\n",
    "                    format='%(asctime)s:%(levelname)s:%(message)s')\n",
    "\n",
    "# Function to log warnings\n",
    "def log_warning(message, category, filename, lineno, file=None, line=None):\n",
    "    logging.error(f'Warning: {message}, Category: {category.__name__}, Filename: {filename}, Line: {lineno}')\n",
    "\n",
    "# This function should be called at the beginning of the parallelized function\n",
    "def setup_warning_logging():\n",
    "    warnings.showwarning = log_warning\n",
    "    warnings.simplefilter('always', RuntimeWarning)  # Adjust as needed\n",
    "\n",
    "\n",
    "\n",
    "# Load data from CSV file\n",
    "file2 = pd.read_csv(\"../../Output/LowPPMMatrix.csv\")\n",
    "\n",
    "file2=file2[file2['Target PPM']!=150]\n",
    "\n",
    "# Separate the independent and dependent variables\n",
    "X = file2[['Resistance', 'RelativeHumidity', 'Temperature']]\n",
    "y = file2['Target PPM'] + 4.21\n",
    "\n",
    "p0 = [1] * 13\n",
    "\n",
    "def funkEQ(X, a,b,c,d,e,f,g,h,i,j,k,l,m):\n",
    "    R, H, T = X\n",
    "    with np.errstate(over='ignore'):\n",
    "        stuff= a*R**b+c*H*(a*R**b+c)+d\n",
    "    return stuff\n",
    "\n",
    "\n",
    "def residual(params, X, y):\n",
    "    return np.sum((y - funkEQ(X, *params))**2)\n",
    "\n",
    "\n",
    "def fit_model(iteration, X, y, p0):\n",
    "    # Suppress the specific scipy OptimizeWarning\n",
    "    setup_warning_logging()\n",
    "    warnings.filterwarnings(\"ignore\", category=OptimizeWarning)\n",
    "\n",
    "    # Split the data into training and testing sets with a fixed random state\n",
    "    X_train, X_test, y_train, y_test = train_test_split(\n",
    "        X,\n",
    "        y,\n",
    "        test_size=0.1,\n",
    "        random_state=iteration\n",
    "    )\n",
    "\n",
    "    # Perform curve fitting using the funkEQ function and the training data\n",
    "    popt, pcov = sc.curve_fit(funkEQ,(X_train['Resistance'], X_train['RelativeHumidity'], X_train['Temperature']),y_train,p0,maxfev=1000000)\n",
    "\n",
    "    # Generate the predictions using the optimized parameters and the test data\n",
    "    y_pred = funkEQ((X_test['Resistance'], X_test['RelativeHumidity'], X_test['Temperature']), *popt)\n",
    "\n",
    "    # Calculate the RMSE\n",
    "    rmse_value = mean_squared_error(y_test + 4.21, y_pred, squared=False)\n",
    "    return rmse_value\n",
    "# Number of processes to create in the Pool\n",
    "num_cores = multiprocessing.cpu_count()\n",
    "# Run the optimization in parallel\n",
    "results = Parallel(n_jobs=num_cores)(\n",
    "    delayed(fit_model)(i, X, y, p0) for i in tqdm(range(1000))\n",
    ")\n",
    "\n",
    "\n",
    "    # Calculate the average RMSE\n",
    "average_rmse = np.mean(results)\n",
    "print(f'Average RMSE over 1000 iterations: {average_rmse}')\n"
   ]
  },
  {
   "cell_type": "markdown",
   "source": [
    "New Funk Equations Data (1000)\n",
    "\n",
    "a ** ((-1*R**(b) * (H ** c) ) * d + e) * f ** (-1 * H * g + h) * i ** (-1 * T * j + k) * l ** (-1*R*(1/(T*m))*n+o) + p*(R*T) +q\n",
    "Average RMSE over 100 iterations: 7.007273999664978\n",
    "\n",
    "a ** ( (-1*R**(b) * (H ** c)) * d + e) * f ** (-1 * H * g + h) * l ** (-1*R*(1/(T*m))*n+o) + p*(R*T) +q\n",
    "Average RMSE over 1000 iterations: 17.67510700120471\n",
    "\n",
    "a ** ( (-1*R**(b) * (H ** c)) * d + e) * f ** (-1 * H * g + h) + p*(R*T) +q\n",
    "Average RMSE over 1000 iterations: 17.675107001818105\n",
    "\n",
    "a ** ( (-1*R**(b) * (H ** c)) * d + e) * f ** (-1 * H * g + h) * i ** (-1 * T * j + k)  + p*(R*T) +q\n",
    "Average RMSE over 1000 iterations: 7.880237446949506\n",
    "\n",
    "a *np.exp( (-1*R**(b) * (H ** c)) * d + e) * f ** (-1 * H * g + h) * i ** (-1 * T * j + k) + l\n",
    "Average RMSE over 1000 iterations: 17.928474351142512\n",
    "\n",
    "a**((((-1*R)/(H**b))*c)+(-1*H*d)+(-1*T*e)+(((-1*T*f)/(H**g))*h)+i)+j\n",
    "Average RMSE over 1000 iterations: 8.830662206144401\n",
    "\n",
    "a*R**b+c*H*(a*R**b+c)+d\n",
    "Average RMSE over 1000 iterations: 12.183036927966038"
   ],
   "metadata": {
    "collapsed": false
   }
  },
  {
   "cell_type": "markdown",
   "source": [
    " Funk Equation Iterations\n",
    "a*R+b\n",
    "a*np.exp(-1*R*b+c)+d\n",
    "a*R**b+c\n",
    "a*R**b+c*H*(a*R**b+c)+d  (Basically Bastviken)\n",
    "(a*np.exp(-1*R*b+c)+d)+f*H*(a*np.exp(-1*R*b+c)+d)+g\n",
    "a*np.exp(-1*R*b+c)+d*np.exp(-1*H*f+g)+h (Funk Equation)\n",
    "a*np.exp((-1*R*b+c)+(-1*H*d+e))+f 4.2\n",
    "                                                          W/1000  W/500   UV500   UV1000\n",
    "a**((-1*R*b+c)+(-1*H*d+e))+f 6.4                          87.79   42.64   62.74   116.35\n",
    "a**((-1*R*b)+(-1*H*c)+d)+e   6.5                          87.79\n",
    "\n",
    "a**((((-1*R)/(H**b))*c)+(-1*H*d)+e)+f 7.1                 74.09   35.76   62.37   113.46\n",
    "\n",
    "\n",
    "a**((((-1*R)/(H**b))*c)+(-1*H*d)+(-1*T*e)+f)+g 8.1\n",
    "a**((((-1*R)/(H**b))*c)+(-1*H*d)+(-1*T*e)+(((-1)/(T*f*H**g))*h)+i)+j 8.2\n",
    "a**((((-1*R)/(H**b))*c)+(-1*H*d)+(-1*T*e)+(((-1*T*f)/(H**g))*h)+i)+j 8.3                           5.764\n",
    "\n",
    "a**((((-1*R)/(H**b))*c)+(-1*H*d)+(-1*T*e)+(((-1*T*f)/(H**g))*h)+i)+j*np.exp(-1*T*k)+l 9.1\n",
    "\n",
    "\n",
    "0.97**((((-1*R)/(H**(-0.66)))*c)+(-1*H)+(1.21*T)+(((-1.22*T)/(H**0.23))*1.25)+-178.26)+j            5.865\n",
    "\n",
    "\n",
    "6.33 a ** ( (-1*R**(p) / (H ** b)) * c + d) * e ** (-1 * H * f + g) * h ** (-1 * T * i + j) \\\n",
    "               * k ** (-1*R*(1/(T*l))*m+n) + o\n",
    "\n",
    "6.18 a ** ( (-1*R**(p) / (H ** b)) * c + d) * e ** (-1 * H * f + g) * h ** (-1 * T * i + j) \\\n",
    "               * k ** (-1*R*(1/(T*l))*m+n) + o*np.log(H) +q\n",
    "\n",
    "5.75 a ** ( (-1*R**(p) / (H ** b)) * c + d) * e ** (-1 * H * f + g) * h ** (-1 * T * i + j) \\\n",
    "               * k ** (-1*R*(1/(T*l))*m+n) + o*(R*T) +q\n",
    "\n"
   ],
   "metadata": {
    "collapsed": false
   }
  },
  {
   "cell_type": "code",
   "execution_count": null,
   "outputs": [],
   "source": [],
   "metadata": {
    "collapsed": false
   }
  }
 ],
 "metadata": {
  "kernelspec": {
   "display_name": "Python 3",
   "language": "python",
   "name": "python3"
  },
  "language_info": {
   "codemirror_mode": {
    "name": "ipython",
    "version": 2
   },
   "file_extension": ".py",
   "mimetype": "text/x-python",
   "name": "python",
   "nbconvert_exporter": "python",
   "pygments_lexer": "ipython2",
   "version": "2.7.6"
  }
 },
 "nbformat": 4,
 "nbformat_minor": 0
}
