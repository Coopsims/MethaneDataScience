{
 "cells": [
  {
   "cell_type": "code",
   "execution_count": 7,
   "outputs": [],
   "source": [
    "class sensor():\n",
    "    def __init__(self, fileName, sensorNum):\n",
    "        self.parentFile = fileName\n",
    "        self.sensor = sensorNum\n",
    "        # self.sensorID TODO: WILL BE ADDED IN FUTURE UPDATE"
   ],
   "metadata": {
    "collapsed": false,
    "ExecuteTime": {
     "end_time": "2023-05-26T20:58:36.071144Z",
     "start_time": "2023-05-26T20:58:36.066046Z"
    }
   }
  },
  {
   "cell_type": "code",
   "execution_count": 8,
   "outputs": [],
   "source": [
    "class Data():\n",
    "\n",
    "    def __init__(self, csvFile, slope):\n",
    "\n",
    "        # Store File name and file as dataframe\n",
    "        self.fileName = csvFile\n",
    "        self.file = pd.read_csv(csvFile)\n",
    "\n",
    "        self.dataVOut = self.file.loc[:, 'Vout0':'Vout15']\n",
    "        self.dataVRef = self.file.loc[:, 'Vref0':'Vref15']\n",
    "\n",
    "        # getting the resistance of each sensor and appending it to general file\n",
    "        for s in range(0, 16):\n",
    "            tempResistance = (self.file['Vref' + str(s)] * (5 - self.file['Vout' + str(s)])) / (\n",
    "                    (self.file['Vout' + str(s)]) * (5 - self.file['Vref' + str(s)]))\n",
    "            tempFrame = pd.DataFrame(tempResistance, columns=['Resistance' + str(s)])\n",
    "            self.file = pd.concat([self.file, tempFrame], axis=1)\n",
    "\n",
    "        self.resistance = self.file.loc[:, 'Resistance0':'Resistance15']\n",
    "\n",
    "        self.dataRatio = self.dataVOut.to_numpy() / self.dataVRef.to_numpy()\n",
    "        self.dataRatio = pd.DataFrame(self.dataRatio)\n",
    "\n",
    "        # TODO: GET THIS BETTER AT SELECTING DATA\n",
    "\n",
    "        self.partitionSpots = autoSelectData(self.resistance, slope)\n",
    "\n",
    "        self.dataTarget = self.file.loc[:, 'Target ppm']\n",
    "\n",
    "        self.dataHumid = self.file.loc[:, 'Humidity%']\n",
    "\n",
    "        self.testSpots = selectPeriods(self.file, 225)\n",
    "\n",
    "        self.sensors = []\n",
    "        for s in range(0, 16):  # for each sensor\n",
    "            self.sensors.append(sensor(self.fileName, s))"
   ],
   "metadata": {
    "collapsed": false,
    "ExecuteTime": {
     "end_time": "2023-05-26T20:58:36.960321Z",
     "start_time": "2023-05-26T20:58:36.957641Z"
    }
   }
  },
  {
   "cell_type": "code",
   "execution_count": 9,
   "outputs": [],
   "source": [
    "import numpy as np\n",
    "import pandas as pd\n",
    "import scipy.stats as st\n",
    "\n",
    "def summarize(df: Data, N_sensors, partitionSpots):\n",
    "    summary = pd.DataFrame()\n",
    "    low, high = generateConfidinceInterval(partitionSpots, df.resistance, 16)\n",
    "    for i in range(0, len(partitionSpots)):\n",
    "        start = partitionSpots[i][0]\n",
    "        end = partitionSpots[i][1]\n",
    "        for s in range(0, N_sensors):  # for each sensor\n",
    "\n",
    "            sensordf = pd.DataFrame(\n",
    "                [df.sensors[s].sensor, df.dataTarget.loc[start],\n",
    "                 df.resistance.loc[start:end, 'Resistance' + str(s)].mean(),\n",
    "                 df.file.loc[start:end, 'SHTTemp(C)'].mean(),\n",
    "                 df.file.loc[start:end, 'Humidity%'].mean(),\n",
    "                 low[i][s], high[i][s],\n",
    "                 df.dataRatio.loc[start:end].mean(numeric_only=True).mean()]).T\n",
    "            sensordf.columns = ['SensorID', 'Target PPM', 'Resistance', 'Temperature',\n",
    "                                'RelativeHumidity',\n",
    "                                'lowInterval', 'highInterval',\n",
    "                                'Ratio']\n",
    "            summary = pd.concat([summary, sensordf], ignore_index=True)  # append as new row in summary df\n",
    "\n",
    "    return summary\n",
    "\n",
    "\n",
    "\n",
    "def generateConfidinceInterval(partitionSpots, resistance, nSensors):\n",
    "    lowInterval = []\n",
    "    highInterval = []\n",
    "\n",
    "    for item in partitionSpots:\n",
    "        subLow = []\n",
    "        subHigh = []\n",
    "        for i in range(0, nSensors):\n",
    "            lowEnd = item[0]\n",
    "            highEnd = item[1]\n",
    "            tempDF = resistance.loc[lowEnd:highEnd, 'Resistance' + str(i)]\n",
    "            tempLowInterval, tempHighInterval = st.t.interval(alpha=0.95, df=len(tempDF), loc=np.mean(tempDF),\n",
    "                                                              scale=st.sem(tempDF))\n",
    "            subLow.append(tempLowInterval)\n",
    "            subHigh.append(tempHighInterval)\n",
    "        lowInterval.append(subLow)\n",
    "        highInterval.append(subHigh)\n",
    "\n",
    "    return lowInterval,highInterval\n",
    "\n",
    "\n",
    "def autoSelectData(resistance, slope):\n",
    "    n = 200\n",
    "    pointer1 = 0\n",
    "    pointer2 = pointer1 + n\n",
    "    selectedSpots = []\n",
    "    # TODO: figure out optimal value for slopedif\n",
    "    slopeDiff = slope\n",
    "    currentSlope = 0\n",
    "    lastSlope = 10\n",
    "    len(resistance)\n",
    "    while pointer2 <= len(resistance):\n",
    "\n",
    "        if slopeDiff >= abs(currentSlope):\n",
    "            testList = list(resistance[pointer1:pointer2].T.columns.values)\n",
    "            b = np.polyfit(testList, resistance[pointer1:pointer2].T.mean(), 1)\n",
    "\n",
    "            if currentSlope != 0:\n",
    "                lastSlope = currentSlope\n",
    "            currentSlope = b[0]\n",
    "            pointer2 += n\n",
    "\n",
    "            if pointer2 >= len(resistance) and slopeDiff >= abs(lastSlope):\n",
    "                selectedSpots.append([pointer1, len(resistance) - 50])\n",
    "\n",
    "        else:\n",
    "            if slopeDiff >= abs(lastSlope):\n",
    "                selectedSpots.append([pointer1, pointer2 - 50])\n",
    "            pointer1 = pointer2\n",
    "            pointer2 = pointer1 + n\n",
    "            currentSlope = 0\n",
    "            lastSlope = 10\n",
    "\n",
    "    return selectedSpots\n",
    "\n",
    "\n",
    "def selectPeriods(df, delta_t):\n",
    "    pointer = 5\n",
    "    endSpots = []\n",
    "    setPoints = []\n",
    "    while pointer < len(df) - 3:\n",
    "        if (int(df.loc[pointer, 'Target ppm']) - int(df.loc[pointer - 1, 'Target ppm'])) != 0:\n",
    "            endSpots.append(pointer - 1)\n",
    "            pointer += 1\n",
    "        else:\n",
    "            pointer += 1\n",
    "    endSpots.append(len(df) - 3)\n",
    "    for item in endSpots:\n",
    "        setPoints.append([item - delta_t, item])\n",
    "    return setPoints"
   ],
   "metadata": {
    "collapsed": false,
    "ExecuteTime": {
     "end_time": "2023-05-26T20:58:37.885605Z",
     "start_time": "2023-05-26T20:58:37.872773Z"
    }
   }
  },
  {
   "cell_type": "code",
   "execution_count": 10,
   "metadata": {
    "collapsed": true,
    "ExecuteTime": {
     "end_time": "2023-05-26T20:58:38.880103Z",
     "start_time": "2023-05-26T20:58:38.874969Z"
    }
   },
   "outputs": [],
   "source": [
    "import glob\n",
    "import os\n",
    "import pandas as pd\n",
    "\n",
    "\n",
    "def main():\n",
    "    path = r'/Users/benfunk/DataspellProjects/MethaneDataScience/Raw Data'\n",
    "    summary = pd.DataFrame()  # empty dataframe to hold summary results\n",
    "    selectedData = pd.DataFrame()\n",
    "    for filename in glob.glob(os.path.join(path, '*.csv')):\n",
    "        with open(os.path.join(os.getcwd(), filename)) as file:\n",
    "            myData = Data(csvFile=file, slope=6.7e-05)\n",
    "\n",
    "            fsummary = summarize(df=myData, N_sensors=16, partitionSpots=myData.testSpots)\n",
    "            summary = pd.concat([summary, fsummary], ignore_index=True)\n",
    "\n",
    "    summary_fname = os.path.join('./Output', 'BenSummaryNew.csv')\n",
    "    summary.to_csv(summary_fname)"
   ]
  },
  {
   "cell_type": "code",
   "execution_count": null,
   "outputs": [],
   "source": [],
   "metadata": {
    "collapsed": false
   }
  }
 ],
 "metadata": {
  "kernelspec": {
   "display_name": "Python 3",
   "language": "python",
   "name": "python3"
  },
  "language_info": {
   "codemirror_mode": {
    "name": "ipython",
    "version": 2
   },
   "file_extension": ".py",
   "mimetype": "text/x-python",
   "name": "python",
   "nbconvert_exporter": "python",
   "pygments_lexer": "ipython2",
   "version": "2.7.6"
  }
 },
 "nbformat": 4,
 "nbformat_minor": 0
}
