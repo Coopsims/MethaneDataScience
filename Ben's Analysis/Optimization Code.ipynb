{
 "cells": [
  {
   "cell_type": "code",
   "execution_count": 1,
   "outputs": [],
   "source": [
    "# Relevant libraries\n",
    "import pandas as pd\n",
    "import scipy.stats as st\n",
    "from sklearn.metrics import mean_squared_error\n",
    "from sklearn.model_selection import train_test_split\n",
    "from scipy.optimize import OptimizeWarning\n",
    "import numpy as np\n",
    "from scipy.optimize import curve_fit\n",
    "import multiprocessing\n",
    "from joblib import Parallel, delayed\n",
    "from tqdm import tqdm\n",
    "import warnings\n"
   ],
   "metadata": {
    "collapsed": false,
    "ExecuteTime": {
     "end_time": "2023-08-14T20:36:37.779471Z",
     "start_time": "2023-08-14T20:36:37.309453Z"
    }
   }
  },
  {
   "cell_type": "code",
   "execution_count": null,
   "metadata": {
    "collapsed": true,
    "is_executing": true,
    "ExecuteTime": {
     "start_time": "2023-08-14T20:36:39.307753Z"
    }
   },
   "outputs": [
    {
     "name": "stderr",
     "output_type": "stream",
     "text": [
      " 28%|██▊       | 27972/100000 [00:41<01:41, 712.71it/s]"
     ]
    }
   ],
   "source": [
    "# Load data from CSV file\n",
    "file2 = pd.read_csv(\"../Output/LowPPMMatrix.csv\")\n",
    "# Extract the columns from the data\n",
    "#file2=file2[file2['Target PPM']<=500]\n",
    "\n",
    "#file2=file2[file2['Target PPM']!=150]\n",
    "#file2=file2[file2['Target PPM']!=50]\n",
    "xDataResistance = file2.loc[:, 'Resistance']\n",
    "xDataRatio = file2.loc[:, 'Ratio']\n",
    "xDataRH = file2.loc[:, 'RelativeHumidity']\n",
    "xDataTemp = file2.loc[:, 'Temperature']\n",
    "yDataTargetPPM = file2.loc[:, 'Target PPM']\n",
    "\n",
    "#calculate abso.lute humidity in g/m^3\n",
    "P_actual_hPa = .8 * 1013.25\n",
    "e_sat_standard = 6.112 * np.exp((17.67 * xDataTemp) / (xDataTemp + 243.5))\n",
    "e_sat_actual = e_sat_standard * (P_actual_hPa / 1013.25)\n",
    "xDataAH = 1000*((xDataRH/100)*e_sat_actual)/(461.5*(xDataTemp+ 273.15))\n",
    "\n",
    "# Separate the independent and dependent variables\n",
    "X = file2.drop('Target PPM', axis='columns')\n",
    "y = file2.loc[:, 'Target PPM']\n",
    "\n",
    "# Split data into training and testing sets\n",
    "X_train, X_test, y_train, y_test = train_test_split(X, y, test_size=0.2, random_state=42)\n",
    "\n",
    "# Ignore all warnings in the code\n",
    "warnings.filterwarnings(\"ignore\")\n",
    "\n",
    "def funkEQ(X, a, b,c,d,e,f):\n",
    "    R, H = X\n",
    "    with np.errstate(over='ignore'):\n",
    "        stuff=a*np.exp((((-1*R)/(H**b))*c)+(-1*H*d)+e)+f\n",
    "    return stuff\n",
    "\n",
    "def optimize_parameters(p0):\n",
    "    try:\n",
    "        with warnings.catch_warnings():\n",
    "            warnings.filterwarnings('ignore', category=RuntimeWarning)\n",
    "            warnings.filterwarnings('ignore', category=OptimizeWarning)\n",
    "\n",
    "            popt, pcov = curve_fit(funkEQ, (xDataResistance, xDataRH), yDataTargetPPM, p0=p0, maxfev=1000000)\n",
    "\n",
    "        return (p0, popt, np.sum((yDataTargetPPM - funkEQ((xDataResistance, xDataRH), *popt))**2))\n",
    "    except Exception as e:\n",
    "        print(f\"Error with parameters {p0}: {str(e)}\")\n",
    "        return None\n",
    "\n",
    "# Set the random seed for reproducibility\n",
    "np.random.seed()\n",
    "\n",
    "# Number of points to generate\n",
    "num_points = 100000\n",
    "\n",
    "initial_params = np.random.randint(-20, 20, size=(num_points, 6))\n",
    "\n",
    "num_cores = multiprocessing.cpu_count()\n",
    "\n",
    "results = Parallel(n_jobs=num_cores)(delayed(optimize_parameters)(p) for p in tqdm(initial_params))\n",
    "\n",
    "# Filter out None, NaN, and Infinity results\n",
    "successful_results = [result for result in results\n",
    "                      if result is not None\n",
    "                      and not np.any(np.isnan(result[1]))\n",
    "                      and not np.any(np.isinf(result[1]))]\n",
    "\n",
    "init_params, fitted_params, residuals = zip(*successful_results)\n",
    "\n",
    "# Rank the parameters by their residual and only keep the top 10\n",
    "best_params = np.array(fitted_params)[np.argsort(residuals)[:10]]\n",
    "best_init = np.array(init_params)[np.argsort(residuals)[:10]]\n",
    "\n",
    "# The best parameters are the first in the sorted list\n",
    "#print('Fitted function parameters: a=%.3f, b=%.3f, c=%.3f d=%.3f, f=%.3f, g=%.3f' % (best_params[0][0], best_params[0][1], best_params[0][2], best_params[0][3], best_params[0][4], best_params[0][5]))\n",
    "\n",
    "print('The initial conditions to get this optimization were: '+str(best_init[0]))\n",
    "\n",
    "# Calculate RMSE for the best parameters\n",
    "popt=best_params[0]\n",
    "#best_params[0]=[18,  1,  4, 12,  0,  4, -7]\n",
    "# file2=file2[file2[\"SensorID\"]==3]\n",
    "# X = file2.drop('Target PPM', axis='columns')\n",
    "# y = file2.loc[:, 'Target PPM']\n",
    "# X_train, X_test, y_train, y_test = train_test_split(X, y, test_size=0.2, random_state=42)\n",
    "# Extract the Resistance column from the X_test dataframe\n",
    "R_test = X_test.loc[:, 'Resistance']\n",
    "H_test = X_test.loc[:, 'RelativeHumidity']\n",
    "T_test = X_test.loc[:, 'Temperature']\n",
    "#popt = [38.538220,0.843161,4.637493,380.116483,0.06614,0.298036,-78.340227]\n",
    "#popt = best_params[0]\n",
    "# Generate the predictions using the optimized parameters and the input data\n",
    "y_pred = funkEQ((R_test, H_test), *popt)\n",
    "\n",
    "# Calculate the mean squared error\n",
    "testVal = mean_squared_error(y_test, y_pred, squared=False)\n",
    "print(testVal)\n",
    "\n",
    "# Iterate through target PPM values and calculate the 95% confidence interval for each value\n",
    "for i in range(0, 1001, 200):\n",
    "\n",
    "    # Filter the data for the current target PPM value\n",
    "    df = file2[file2['Target PPM'] == i]\n",
    "\n",
    "    # Calculate the model output using the filtered data and optimized parameters\n",
    "    myData = funkEQ((df.loc[:, 'Resistance'], df.loc[:, 'RelativeHumidity']), *popt)\n",
    "\n",
    "    # Calculate the 95% confidence interval using the t-distribution\n",
    "    low95, high95 = st.t.interval(0.95, len(myData)-1, loc=np.mean(myData), scale=st.sem(myData))\n",
    "\n",
    "\n",
    "    # Print the 95% confidence interval for the current target PPM value\n",
    "    print(\"The 95% Confidence Interval for \" + str(i) + \" is (\" + str(low95) + \", \" + str(high95) + \")\")\n"
   ]
  },
  {
   "cell_type": "code",
   "execution_count": null,
   "outputs": [],
   "source": [],
   "metadata": {
    "collapsed": false
   }
  }
 ],
 "metadata": {
  "kernelspec": {
   "display_name": "Python 3",
   "language": "python",
   "name": "python3"
  },
  "language_info": {
   "codemirror_mode": {
    "name": "ipython",
    "version": 2
   },
   "file_extension": ".py",
   "mimetype": "text/x-python",
   "name": "python",
   "nbconvert_exporter": "python",
   "pygments_lexer": "ipython2",
   "version": "2.7.6"
  }
 },
 "nbformat": 4,
 "nbformat_minor": 0
}
